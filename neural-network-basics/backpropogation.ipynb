{
 "cells": [
  {
   "cell_type": "code",
   "execution_count": 244,
   "metadata": {},
   "outputs": [],
   "source": [
    "import numpy as np\n",
    "import pandas as pd\n",
    "import matplotlib.pyplot as plt"
   ]
  },
  {
   "cell_type": "code",
   "execution_count": 245,
   "metadata": {},
   "outputs": [],
   "source": [
    "x = np.array([ [0, 1], [1, 0], [1, 1],[0, 0] ])\n",
    "y = np.array([ [1], [1], [0], [0]])"
   ]
  },
  {
   "cell_type": "code",
   "execution_count": 246,
   "metadata": {},
   "outputs": [],
   "source": [
    "#Number of nodes in each layer\n",
    "num_input=2\n",
    "num_hidden=5\n",
    "num_output=1"
   ]
  },
  {
   "cell_type": "code",
   "execution_count": 247,
   "metadata": {},
   "outputs": [],
   "source": [
    "Wxh=np.random.randn(num_input,num_hidden)\n",
    "# bias_hidden=np.random.rand(1,num_hidden)\n",
    "bias_hidden=np.zeros((1,num_hidden))\n"
   ]
  },
  {
   "cell_type": "code",
   "execution_count": 248,
   "metadata": {},
   "outputs": [],
   "source": [
    "Why=np.random.randn(num_hidden,num_output)\n",
    "# bias_y=np.random.randn(1,num_output)\n",
    "bias_y=np.zeros((1,num_output))"
   ]
  },
  {
   "cell_type": "code",
   "execution_count": 249,
   "metadata": {},
   "outputs": [
    {
     "data": {
      "text/plain": [
       "array([[-0.30604797, -1.29710995, -0.98590211, -0.64938189,  0.02486174],\n",
       "       [-1.87879299,  1.1474358 , -0.90574271,  0.88342677, -2.6603355 ]])"
      ]
     },
     "execution_count": 249,
     "metadata": {},
     "output_type": "execute_result"
    }
   ],
   "source": [
    "Wxh"
   ]
  },
  {
   "cell_type": "code",
   "execution_count": 250,
   "metadata": {},
   "outputs": [
    {
     "data": {
      "text/plain": [
       "(2, 5)"
      ]
     },
     "execution_count": 250,
     "metadata": {},
     "output_type": "execute_result"
    }
   ],
   "source": [
    "Wxh.shape"
   ]
  },
  {
   "cell_type": "code",
   "execution_count": 251,
   "metadata": {},
   "outputs": [
    {
     "data": {
      "text/plain": [
       "array([[ 0.47471378],\n",
       "       [-0.1339538 ],\n",
       "       [-0.32192054],\n",
       "       [ 0.21769272],\n",
       "       [-0.23811709]])"
      ]
     },
     "execution_count": 251,
     "metadata": {},
     "output_type": "execute_result"
    }
   ],
   "source": [
    "Why"
   ]
  },
  {
   "cell_type": "code",
   "execution_count": 252,
   "metadata": {},
   "outputs": [
    {
     "data": {
      "text/plain": [
       "(5, 1)"
      ]
     },
     "execution_count": 252,
     "metadata": {},
     "output_type": "execute_result"
    }
   ],
   "source": [
    "Why.shape"
   ]
  },
  {
   "cell_type": "code",
   "execution_count": 253,
   "metadata": {},
   "outputs": [
    {
     "data": {
      "text/plain": [
       "array([[0., 0., 0., 0., 0.]])"
      ]
     },
     "execution_count": 253,
     "metadata": {},
     "output_type": "execute_result"
    }
   ],
   "source": [
    "bias_hidden"
   ]
  },
  {
   "cell_type": "code",
   "execution_count": 254,
   "metadata": {},
   "outputs": [
    {
     "data": {
      "text/plain": [
       "array([[0.]])"
      ]
     },
     "execution_count": 254,
     "metadata": {},
     "output_type": "execute_result"
    }
   ],
   "source": [
    "bias_y"
   ]
  },
  {
   "cell_type": "code",
   "execution_count": 255,
   "metadata": {},
   "outputs": [],
   "source": [
    "def get_sigmoid(z):\n",
    "    return 1/1+np.exp(-z)"
   ]
  },
  {
   "cell_type": "code",
   "execution_count": 256,
   "metadata": {},
   "outputs": [],
   "source": [
    "def get_sigmoid_derivative(z):\n",
    "#     return get_sigmoid(z)*(1-get_sigmoid(z))\n",
    "        return np.exp(-z)/((1+np.exp(-z))**2)"
   ]
  },
  {
   "cell_type": "code",
   "execution_count": 257,
   "metadata": {},
   "outputs": [],
   "source": [
    "def feed_forward_network(x,y,Wxh,Why,bias_hidden,bias_y):\n",
    "#     print(f\"Wxh = {Wxh}\")\n",
    "#     print(f\"Why = {Why}\")\n",
    "    z1=np.dot(x,Wxh)+bias_hidden\n",
    "#     print(f\"z1 = {z1}\")\n",
    "    a1=get_sigmoid(z1)\n",
    "#     print(f\"a1 = {a1}\")\n",
    "    z2=np.dot(a1,Why)+bias_y\n",
    "#     print(f\"z2 {z2}\")\n",
    "    y_hat=get_sigmoid(z2)\n",
    "#     print(y_hat)\n",
    "    return z1,a1,z2,y_hat\n",
    "    \n",
    "    "
   ]
  },
  {
   "cell_type": "code",
   "execution_count": 258,
   "metadata": {},
   "outputs": [],
   "source": [
    "# z1=np.dot(x,Wxh)+bias_hidden"
   ]
  },
  {
   "cell_type": "code",
   "execution_count": 259,
   "metadata": {},
   "outputs": [],
   "source": [
    "# a1=get_sigmoid(z1)"
   ]
  },
  {
   "cell_type": "code",
   "execution_count": 260,
   "metadata": {},
   "outputs": [],
   "source": [
    "# a1"
   ]
  },
  {
   "cell_type": "code",
   "execution_count": 261,
   "metadata": {},
   "outputs": [],
   "source": [
    "# z2=np.dot(a1,Why)+bias_y"
   ]
  },
  {
   "cell_type": "code",
   "execution_count": 262,
   "metadata": {},
   "outputs": [],
   "source": [
    "# z2"
   ]
  },
  {
   "cell_type": "code",
   "execution_count": 263,
   "metadata": {},
   "outputs": [],
   "source": [
    "# get_sigmoid(z2)"
   ]
  },
  {
   "cell_type": "code",
   "execution_count": 264,
   "metadata": {},
   "outputs": [],
   "source": [
    "# get_sigmoid_derivative(z2)"
   ]
  },
  {
   "cell_type": "code",
   "execution_count": 265,
   "metadata": {},
   "outputs": [],
   "source": [
    "# xp=np.array([[1,2],\n",
    "#            [2,3],\n",
    "#            [4,5]])\n"
   ]
  },
  {
   "cell_type": "code",
   "execution_count": 266,
   "metadata": {},
   "outputs": [],
   "source": [
    "# 1/xp"
   ]
  },
  {
   "cell_type": "code",
   "execution_count": 267,
   "metadata": {},
   "outputs": [],
   "source": [
    "def back_prop(z1,a1,z2,y_hat):\n",
    "    delta2=np.multiply((y-y_hat),get_sigmoid_derivative(z2))\n",
    "#     print(f\"delta2 = {delta2.shape}\")\n",
    "    dJ_Why=np.dot(a1.T,delta2)\n",
    "#     print(f\"dJ_Why = {dJ_Why.shape}\")\n",
    "    delta1=np.dot(delta2,Why.T)*get_sigmoid_derivative(z1)\n",
    "#     print(f\"delta1 = {delta1.shape}\")\n",
    "    dJ_Wxh=np.dot(x.T,delta1)\n",
    "#     print(f\"dJ_Wxh = {dJ_Wxh.shape}\")\n",
    "    return dJ_Wxh,dJ_Why\n",
    "    "
   ]
  },
  {
   "cell_type": "code",
   "execution_count": 268,
   "metadata": {},
   "outputs": [],
   "source": [
    "def get_cost(y,y_hat):\n",
    "    j= 0.5*np.sum((y-y_hat)**2)\n",
    "#     print(j)\n",
    "    return j\n"
   ]
  },
  {
   "cell_type": "code",
   "execution_count": 269,
   "metadata": {},
   "outputs": [],
   "source": [
    "alpha = 0.01\n",
    "num_iterations = 5000"
   ]
  },
  {
   "cell_type": "code",
   "execution_count": 270,
   "metadata": {},
   "outputs": [
    {
     "data": {
      "text/plain": [
       "array([[ 0.47471378],\n",
       "       [-0.1339538 ],\n",
       "       [-0.32192054],\n",
       "       [ 0.21769272],\n",
       "       [-0.23811709]])"
      ]
     },
     "execution_count": 270,
     "metadata": {},
     "output_type": "execute_result"
    }
   ],
   "source": [
    "Why"
   ]
  },
  {
   "cell_type": "code",
   "execution_count": 271,
   "metadata": {},
   "outputs": [
    {
     "name": "stdout",
     "output_type": "stream",
     "text": [
      " iteration   =  0    cost    =  17.148666082455584\n",
      " iteration   =  100    cost    =  1.0452687398121556\n",
      " iteration   =  200    cost    =  1.0240039395863954\n",
      " iteration   =  300    cost    =  1.016297570783896\n",
      " iteration   =  400    cost    =  1.0123257721630714\n",
      " iteration   =  500    cost    =  1.0099061005476822\n",
      " iteration   =  600    cost    =  1.008278463431194\n",
      " iteration   =  700    cost    =  1.0071091069621363\n",
      " iteration   =  800    cost    =  1.0062285768822088\n",
      " iteration   =  900    cost    =  1.0055417395649395\n",
      " iteration   =  1000    cost    =  1.0049910808911375\n",
      " iteration   =  1100    cost    =  1.0045397921052674\n",
      " iteration   =  1200    cost    =  1.004163225660327\n",
      " iteration   =  1300    cost    =  1.0038442581192053\n",
      " iteration   =  1400    cost    =  1.0035706238247228\n",
      " iteration   =  1500    cost    =  1.0033333070300232\n",
      " iteration   =  1600    cost    =  1.0031255328130264\n",
      " iteration   =  1700    cost    =  1.002942111880275\n",
      " iteration   =  1800    cost    =  1.0027790024933338\n",
      " iteration   =  1900    cost    =  1.0026330099864946\n",
      " iteration   =  2000    cost    =  1.002501575976943\n",
      " iteration   =  2100    cost    =  1.0023826275192893\n",
      " iteration   =  2200    cost    =  1.0022744672203578\n",
      " iteration   =  2300    cost    =  1.0021756919026605\n",
      " iteration   =  2400    cost    =  1.0020851315241144\n",
      " iteration   =  2500    cost    =  1.0020018027042235\n",
      " iteration   =  2600    cost    =  1.0019248729385897\n",
      " iteration   =  2700    cost    =  1.0018536327402803\n",
      " iteration   =  2800    cost    =  1.0017874737328145\n",
      " iteration   =  2900    cost    =  1.0017258712626367\n",
      " iteration   =  3000    cost    =  1.0016683704796252\n",
      " iteration   =  3100    cost    =  1.0016145751047394\n",
      " iteration   =  3200    cost    =  1.0015641382985496\n",
      " iteration   =  3300    cost    =  1.001516755186151\n",
      " iteration   =  3400    cost    =  1.0014721566982676\n",
      " iteration   =  3500    cost    =  1.0014301044659155\n",
      " iteration   =  3600    cost    =  1.0013903865642275\n",
      " iteration   =  3700    cost    =  1.0013528139451235\n",
      " iteration   =  3800    cost    =  1.0013172174321965\n",
      " iteration   =  3900    cost    =  1.0012834451770973\n",
      " iteration   =  4000    cost    =  1.0012513604968123\n",
      " iteration   =  4100    cost    =  1.0012208400269142\n",
      " iteration   =  4200    cost    =  1.0011917721382217\n",
      " iteration   =  4300    cost    =  1.0011640555740549\n",
      " iteration   =  4400    cost    =  1.001137598273048\n",
      " iteration   =  4500    cost    =  1.0011123163487028\n",
      " iteration   =  4600    cost    =  1.0010881332018653\n",
      " iteration   =  4700    cost    =  1.0010649787463506\n",
      " iteration   =  4800    cost    =  1.001042788731252\n",
      " iteration   =  4900    cost    =  1.001021504146125\n"
     ]
    }
   ],
   "source": [
    "\n",
    "costs = []\n",
    "for i in range(num_iterations):\n",
    "    \n",
    "    z1,a1,z2,y_hat=feed_forward_network(x,y,Wxh,Why,bias_hidden,bias_y)\n",
    "#     print(y)\n",
    "#     print(y_hat)\n",
    "    \n",
    "    dJ_Wxh,dJ_Why=back_prop(z1,a1,z2,y_hat)\n",
    "#     print(f\"dJ_Wxh = {dJ_Wxh}\")\n",
    "#     print(f\"dJ_Why = {dJ_Why}\")\n",
    "    \n",
    "    Wxh=Wxh-alpha*dJ_Wxh\n",
    "    Why=Why-alpha*dJ_Why\n",
    "    \n",
    "    costs.append(get_cost(y,y_hat))\n",
    "    \n",
    "    if i%100==0:\n",
    "        print(f\" iteration   =  {i}    cost    =  {get_cost(y,y_hat)}\")\n",
    "    \n",
    "    \n",
    "    "
   ]
  },
  {
   "cell_type": "code",
   "execution_count": 272,
   "metadata": {},
   "outputs": [
    {
     "data": {
      "text/plain": [
       "Text(0, 0.5, 'Cost')"
      ]
     },
     "execution_count": 272,
     "metadata": {},
     "output_type": "execute_result"
    },
    {
     "data": {
      "image/png": "[encoded data removed]",
      "text/plain": [
       "<Figure size 432x288 with 1 Axes>"
      ]
     },
     "metadata": {
      "needs_background": "light"
     },
     "output_type": "display_data"
    }
   ],
   "source": [
    "plt.grid()\n",
    "plt.plot(range(num_iterations),costs)\n",
    "\n",
    "plt.title('Cost Function')\n",
    "plt.xlabel('Training Iterations')\n",
    "plt.ylabel('Cost')\n"
   ]
  },
  {
   "cell_type": "code",
   "execution_count": null,
   "metadata": {},
   "outputs": [],
   "source": []
  },
  {
   "cell_type": "code",
   "execution_count": null,
   "metadata": {},
   "outputs": [],
   "source": []
  }
 ],
 "metadata": {
  "kernelspec": {
   "display_name": "Python 3",
   "language": "python",
   "name": "python3"
  },
  "language_info": {
   "codemirror_mode": {
    "name": "ipython",
    "version": 3
   },
   "file_extension": ".py",
   "mimetype": "text/x-python",
   "name": "python",
   "nbconvert_exporter": "python",
   "pygments_lexer": "ipython3",
   "version": "3.8.2"
  }
 },
 "nbformat": 4,
 "nbformat_minor": 4
}
